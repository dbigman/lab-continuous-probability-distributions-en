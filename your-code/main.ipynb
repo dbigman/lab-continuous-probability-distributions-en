{
 "cells": [
  {
   "cell_type": "markdown",
   "metadata": {},
   "source": [
    "# Before your start:\n",
    "\n",
    "    Read the README.md file\n",
    "    Comment as much as you can and use the resources (README.md file)\n",
    "    Happy learning!"
   ]
  },
  {
   "cell_type": "markdown",
   "metadata": {},
   "source": [
    "In this exercise, we  will generate random numbers from the continuous disributions we learned in the lesson. There are two ways to generate random numbers:\n",
    "\n",
    "1. Using the numpy library \n",
    "1. using the Scipy library \n",
    "\n",
    "Use either or both of the lbraries in this exercise."
   ]
  },
  {
   "cell_type": "code",
   "execution_count": 1,
   "metadata": {},
   "outputs": [],
   "source": [
    "import matplotlib.pyplot as plt\n",
    "import pandas as pd\n",
    "import numpy as np\n",
    "import math\n",
    "import seaborn as sns"
   ]
  },
  {
   "cell_type": "markdown",
   "metadata": {},
   "source": [
    "## Uniform Distribution\n",
    "\n",
    "To generate uniform random numbers between any two given values using scipy, we can either use the following code or the code that we have\n",
    "discussed in class:"
   ]
  },
  {
   "cell_type": "code",
   "execution_count": null,
   "metadata": {},
   "outputs": [],
   "source": [
    "# your code here"
   ]
  },
  {
   "cell_type": "markdown",
   "metadata": {},
   "source": [
    "**Your task:**\n",
    "\n",
    "1. Based on the code above, write a function that generates uniformly distributed random numbers. There are several requirements for your function:\n",
    "    * It should accept 3 parameters: \n",
    "        * `bottom` - the lower boundary of the generated numbers\n",
    "        * `ceiling` - the upper boundary of the generated numbers\n",
    "        * `count` - how many numbers to generate\n",
    "    * It should return an array of uniformly distributed random numbers\n",
    "\n",
    "1. Call your function with 2 sets of params below:\n",
    "    * bottom=10, ceiling=15, count=100\n",
    "    * bottom=10, ceiling=60, count=1,000\n",
    "\n",
    "1. Plot the uniform distributions generated above using histograms, where x axis is the value and y axis is the count. Let the histogram's number of bins be 10.\n",
    "\n",
    "Your output should look like below:\n",
    "\n",
    "![uniform distribution](ud.png)"
   ]
  },
  {
   "cell_type": "code",
   "execution_count": 4,
   "metadata": {},
   "outputs": [],
   "source": [
    "# function using numpy\n",
    "import numpy as np\n",
    "\n",
    "def generate_uniform_random_numbers(bottom, ceiling, count):\n",
    "    \"\"\"\n",
    "    Generates an array of uniformly distributed random numbers.\n",
    "    \n",
    "    Parameters:\n",
    "    - bottom (float): The lower boundary of the generated numbers.\n",
    "    - ceiling (float): The upper boundary of the generated numbers.\n",
    "    - count (int): The number of random numbers to generate.\n",
    "    \n",
    "    Returns:\n",
    "    - np.ndarray: Array of uniformly distributed random numbers.\n",
    "    \"\"\"\n",
    "    return np.random.uniform(low=bottom, high=ceiling, size=count)"
   ]
  },
  {
   "cell_type": "code",
   "execution_count": null,
   "metadata": {},
   "outputs": [],
   "source": [
    "# Generate two sets of uniformly distributed random numbers\n",
    "random_numbers_set1 = generate_uniform_random_numbers(bottom=10, ceiling=15, count=100)\n",
    "random_numbers_set2 = generate_uniform_random_numbers(bottom=10, ceiling=60, count=1000)\n"
   ]
  },
  {
   "cell_type": "code",
   "execution_count": null,
   "metadata": {
    "scrolled": false
   },
   "outputs": [],
   "source": [
    "import matplotlib.pyplot as plt\n",
    "\n",
    "# Plot histogram for set 1\n",
    "plt.figure(figsize=(12, 6))\n",
    "plt.hist(random_numbers_set1, bins=10, color='skyblue', edgecolor='black')\n",
    "plt.title(\"Histogram of Uniform Distribution (set 1: 100 numbers, 10 to 15)\", fontsize=14)\n",
    "plt.xlabel(\"Value\", fontsize=12)\n",
    "plt.ylabel(\"Count\", fontsize=12)\n",
    "plt.grid(axis='y', linestyle='--', alpha=0.7)\n",
    "plt.show()\n",
    "\n",
    "# Plot histogram for set 2\n",
    "plt.figure(figsize=(12, 6))\n",
    "plt.hist(random_numbers_set2, bins=10, color='lightgreen', edgecolor='black')\n",
    "plt.title(\"Histogram of Uniform Distribution (set 2: 1,000 numbers, 10 to 60)\", fontsize=14)\n",
    "plt.xlabel(\"Value\", fontsize=12)\n",
    "plt.ylabel(\"Count\", fontsize=12)\n",
    "plt.grid(axis='y', linestyle='--', alpha=0.7)\n",
    "plt.show()\n"
   ]
  },
  {
   "cell_type": "markdown",
   "metadata": {},
   "source": [
    "How are the two distributions different?"
   ]
  },
  {
   "cell_type": "code",
   "execution_count": 6,
   "metadata": {},
   "outputs": [],
   "source": [
    "# The two distributions differ in range, sample size, and smoothness. \n",
    "# Set 1 spans a smaller range (10–15) with 100 samples, resulting in more variability and lower bin heights. \n",
    "# Set 2 spans a wider range (10–60) with 1,000 samples, producing smoother and taller bins that better reflect\n",
    "# the uniform distribution."
   ]
  },
  {
   "cell_type": "markdown",
   "metadata": {},
   "source": [
    "## Normal Distribution\n",
    "\n",
    "1. In the same way in the Uniform Distribution challenge, write a function that generates normally distributed random numbers.\n",
    "1. Generate 1,000 normally distributed numbers with the average of 10 and standard deviation of 1\n",
    "1. Generate 1,000 normally distributed numbers with the average of 10 and standard deviation of 50\n",
    "2. Plot the distributions of the data generated.\n",
    "\n",
    "Expected output:\n",
    "\n",
    "![normal distribution](nd.png)"
   ]
  },
  {
   "cell_type": "code",
   "execution_count": 9,
   "metadata": {},
   "outputs": [],
   "source": [
    "import numpy as np\n",
    "\n",
    "def generate_normal_random_numbers(mean, std_dev, count):\n",
    "    \"\"\"\n",
    "    Generate an array of normally distributed random numbers.\n",
    "    \n",
    "    Parameters:\n",
    "    - mean (float): The mean of the normal distribution.\n",
    "    - std_dev (float): The standard deviation of the normal distribution.\n",
    "    - count (int): The number of random numbers to generate.\n",
    "    \n",
    "    Returns:\n",
    "    - np.ndarray: Array of normally distributed random numbers.\n",
    "    \"\"\"\n",
    "    return np.random.normal(loc=mean, scale=std_dev, size=count)"
   ]
  },
  {
   "cell_type": "code",
   "execution_count": 10,
   "metadata": {},
   "outputs": [],
   "source": [
    "normal_numbers_set1 = generate_normal_random_numbers(mean=10, std_dev=1, count=1000)\n",
    "normal_numbers_set2 = generate_normal_random_numbers(mean=10, std_dev=50, count=1000)"
   ]
  },
  {
   "cell_type": "code",
   "execution_count": null,
   "metadata": {},
   "outputs": [],
   "source": [
    "# Plot the distributions of the generated normal data\n",
    "\n",
    "# Plot for Set 1 (mean=10, std_dev=1)\n",
    "plt.figure(figsize=(12, 6))\n",
    "plt.hist(normal_numbers_set1, bins=30, color='skyblue', edgecolor='black', alpha=0.7)\n",
    "plt.title(\"Normal Distribution (Mean=10, Std Dev=1)\", fontsize=14)\n",
    "plt.xlabel(\"Value\", fontsize=12)\n",
    "plt.ylabel(\"Frequency\", fontsize=12)\n",
    "plt.grid(axis='y', linestyle='--', alpha=0.7)\n",
    "plt.show()\n",
    "\n",
    "# Plot for Set 2 (mean=10, std_dev=50)\n",
    "plt.figure(figsize=(12, 6))\n",
    "plt.hist(normal_numbers_set2, bins=30, color='lightgreen', edgecolor='black', alpha=0.7)\n",
    "plt.title(\"Normal Distribution (Mean=10, Std Dev=50)\", fontsize=14)\n",
    "plt.xlabel(\"Value\", fontsize=12)\n",
    "plt.ylabel(\"Frequency\", fontsize=12)\n",
    "plt.grid(axis='y', linestyle='--', alpha=0.7)\n",
    "plt.show()\n"
   ]
  },
  {
   "cell_type": "markdown",
   "metadata": {},
   "source": [
    "How are the two distributions different?"
   ]
  },
  {
   "cell_type": "code",
   "execution_count": null,
   "metadata": {},
   "outputs": [],
   "source": [
    "# Set 1 is tightly concentrated around the mean, showing a narrow peak.  \n",
    "# Set 2 is much more spread out, with values distributed over a broader range. \n",
    "# This difference is driven by the respective standard deviations of 1 and 50."
   ]
  },
  {
   "cell_type": "markdown",
   "metadata": {},
   "source": [
    "## Normal Distribution of Real Data\n",
    "\n",
    "In this challenge we are going to take a look the real data. We will use vehicles.csv file for this exercise"
   ]
  },
  {
   "cell_type": "markdown",
   "metadata": {},
   "source": [
    "First import vehicles.csv.\n",
    "Then plot the histograms for the following variables:\n",
    "\n",
    "1. Fuel Barrels/Year"
   ]
  },
  {
   "cell_type": "code",
   "execution_count": null,
   "metadata": {},
   "outputs": [],
   "source": [
    "vehicles_pd = pd.read_csv('vehicles.csv')\n",
    "print(vehicles_pd.columns.tolist())"
   ]
  },
  {
   "cell_type": "code",
   "execution_count": null,
   "metadata": {},
   "outputs": [],
   "source": [
    "import matplotlib.pyplot as plt\n",
    "\n",
    "plt.figure(figsize=(10, 6))\n",
    "plt.hist(vehicles_pd['Fuel Barrels/Year'], bins=15, color='skyblue', edgecolor='black', alpha=0.7)\n",
    "plt.title(\"Histogram of 'Fuel Barrels/Year'\", fontsize=14)\n",
    "plt.xlabel(\"Fuel Barrels/Year\", fontsize=12)\n",
    "plt.ylabel(\"Frequency\", fontsize=12)\n",
    "plt.grid(axis='y', linestyle='--', alpha=0.7)\n",
    "plt.show()"
   ]
  },
  {
   "cell_type": "markdown",
   "metadata": {},
   "source": [
    "2. CO2 Emission Grams/Mile "
   ]
  },
  {
   "cell_type": "code",
   "execution_count": null,
   "metadata": {},
   "outputs": [],
   "source": [
    "plt.figure(figsize=(10, 6))\n",
    "plt.hist(vehicles_pd['CO2 Emission Grams/Mile'], bins=15, color='skyblue', edgecolor='black', alpha=0.7)\n",
    "plt.title(\"Histogram of 'CO2 Emission Grams/Mile'\", fontsize=14)\n",
    "plt.xlabel(\"CO2 Emission Grams/Mile\", fontsize=12)\n",
    "plt.ylabel(\"Frequency\", fontsize=12)\n",
    "plt.grid(axis='y', linestyle='--', alpha=0.7)\n",
    "plt.show()"
   ]
  },
  {
   "cell_type": "markdown",
   "metadata": {},
   "source": [
    "3. Combined MPG"
   ]
  },
  {
   "cell_type": "code",
   "execution_count": null,
   "metadata": {},
   "outputs": [],
   "source": [
    "plt.figure(figsize=(10, 6))\n",
    "plt.hist(vehicles_pd['Combined MPG'], bins=15, color='skyblue', edgecolor='black', alpha=0.7)\n",
    "plt.title(\"Histogram of 'Combined MPG'\", fontsize=14)\n",
    "plt.xlabel(\"Combined MPG\", fontsize=12)\n",
    "plt.ylabel(\"Frequency\", fontsize=12)\n",
    "plt.grid(axis='y', linestyle='--', alpha=0.7)\n",
    "plt.show()"
   ]
  },
  {
   "cell_type": "markdown",
   "metadata": {},
   "source": [
    "Which one(s) of the variables are nearly normally distributed? How do you know?"
   ]
  },
  {
   "cell_type": "code",
   "execution_count": null,
   "metadata": {},
   "outputs": [],
   "source": [
    "# None of them appears normally distributed. All have significant skews. \n",
    "\n",
    "from scipy.stats import kstest\n",
    "from tabulate import tabulate\n",
    "\n",
    "# KS Test\n",
    "\n",
    "ks_results = {\n",
    "    \"Metric\": [\"Fuel Barrels/Year\", \"CO2 Emission Grams/Mile\", \"Combined MPG\"],\n",
    "    \"Statistic\": [\n",
    "        kstest(vehicles_pd['Fuel Barrels/Year'], 'norm', args=(vehicles_pd['Fuel Barrels/Year'].mean(), vehicles_pd['Fuel Barrels/Year'].std())).statistic,\n",
    "        kstest(vehicles_pd['CO2 Emission Grams/Mile'], 'norm', args=(vehicles_pd['CO2 Emission Grams/Mile'].mean(), vehicles_pd['CO2 Emission Grams/Mile'].std())).statistic,\n",
    "        kstest(vehicles_pd['Combined MPG'], 'norm', args=(vehicles_pd['Combined MPG'].mean(), vehicles_pd['Combined MPG'].std())).statistic\n",
    "    ],\n",
    "    \"P-Value\": [\n",
    "        kstest(vehicles_pd['Fuel Barrels/Year'], 'norm', args=(vehicles_pd['Fuel Barrels/Year'].mean(), vehicles_pd['Fuel Barrels/Year'].std())).pvalue,\n",
    "        kstest(vehicles_pd['CO2 Emission Grams/Mile'], 'norm', args=(vehicles_pd['CO2 Emission Grams/Mile'].mean(), vehicles_pd['CO2 Emission Grams/Mile'].std())).pvalue,\n",
    "        kstest(vehicles_pd['Combined MPG'], 'norm', args=(vehicles_pd['Combined MPG'].mean(), vehicles_pd['Combined MPG'].std())).pvalue\n",
    "    ]\n",
    "}\n",
    "\n",
    "ks_results_df = pd.DataFrame(ks_results)\n",
    "\n",
    "# Round the DataFrame to 5 decimals\n",
    "ks_results_df_rounded = ks_results_df.round(5)\n",
    "\n",
    "# Print the DataFrame in tabulated form\n",
    "print(tabulate(ks_results_df_rounded, headers='keys', tablefmt='pretty', showindex=False))"
   ]
  },
  {
   "cell_type": "markdown",
   "metadata": {},
   "source": [
    "None of them are normally ditributed. "
   ]
  },
  {
   "cell_type": "markdown",
   "metadata": {},
   "source": [
    "## Exponential Distribution"
   ]
  },
  {
   "cell_type": "markdown",
   "metadata": {},
   "source": [
    "1. Using `numpy.random.exponential`, create a function that returns a list of numbers exponentially distributed with the mean of 10. \n",
    "\n",
    "1. Use the function to generate two number sequences with the size of 10 and 100.\n",
    "\n",
    "1. Plot the distributions as histograms with the nubmer of bins as 100.\n",
    "\n",
    "Your output should look like below:\n",
    "\n",
    "![exponential distribution](ed.png)"
   ]
  },
  {
   "cell_type": "code",
   "execution_count": 24,
   "metadata": {},
   "outputs": [],
   "source": [
    "import numpy as np\n",
    "\n",
    "def generate_exponential_random_numbers(mean, count):\n",
    "    \"\"\"\n",
    "    Generate a list of exponentially distributed random numbers.\n",
    "    \n",
    "    Parameters:\n",
    "    - mean (float): The mean of the exponential distribution.\n",
    "    - count (int): The number of random numbers to generate.\n",
    "    \n",
    "    Returns:\n",
    "    - list: A list of exponentially distributed random numbers.\n",
    "    \"\"\"\n",
    "    return np.random.exponential(scale=mean, size=count).tolist()"
   ]
  },
  {
   "cell_type": "code",
   "execution_count": 25,
   "metadata": {},
   "outputs": [],
   "source": [
    "sequence_10 = generate_exponential_random_numbers(mean=10, count=10)\n",
    "sequence_100 = generate_exponential_random_numbers(mean=10, count=100)"
   ]
  },
  {
   "cell_type": "code",
   "execution_count": null,
   "metadata": {},
   "outputs": [],
   "source": [
    "# Histogram for sequence with size 10\n",
    "plt.figure(figsize=(12, 6))\n",
    "plt.hist(sequence_10, bins=100, color='skyblue', edgecolor='black', alpha=0.7)\n",
    "plt.title(\"Histogram of Exponential Distribution (Size = 10, Mean = 10)\", fontsize=14)\n",
    "plt.xlabel(\"Value\", fontsize=12)\n",
    "plt.ylabel(\"Frequency\", fontsize=12)\n",
    "plt.grid(axis='y', linestyle='--', alpha=0.7)\n",
    "plt.show()\n",
    "\n",
    "# Histogram for sequence with size 100\n",
    "plt.figure(figsize=(12, 6))\n",
    "plt.hist(sequence_100, bins=100, color='lightgreen', edgecolor='black', alpha=0.7)\n",
    "plt.title(\"Histogram of Exponential Distribution (Size = 100, Mean = 10)\", fontsize=14)\n",
    "plt.xlabel(\"Value\", fontsize=12)\n",
    "plt.ylabel(\"Frequency\", fontsize=12)\n",
    "plt.grid(axis='y', linestyle='--', alpha=0.7)\n",
    "plt.show()"
   ]
  },
  {
   "cell_type": "markdown",
   "metadata": {},
   "source": [
    "How are the two distributions different?"
   ]
  },
  {
   "cell_type": "code",
   "execution_count": null,
   "metadata": {},
   "outputs": [],
   "source": [
    "# The two distributions differ due to their sample sizes. \n",
    "# Sequence with size 10 exhibits greater variability and randomness in the histogram,\n",
    "# as the small sample size makes it less representative of the underlying exponential distribution.\n",
    "\n",
    "# Sequence with size 100 produces a much smoother and more accurate approximation of the exponential distribution, \n",
    "# with a clear reduction in frequency as values increase. "
   ]
  },
  {
   "cell_type": "markdown",
   "metadata": {},
   "source": [
    "The mean changes, so the distribution changes as well. "
   ]
  },
  {
   "cell_type": "markdown",
   "metadata": {},
   "source": [
    "## Exponential Distribution of Real Data\n",
    "\n",
    "Suppose that the amount of time one spends in a bank is exponentially distributed with mean as 10 minutes (i.e. λ = 1/10). What is the probability that a customer will spend less than fifteen minutes in the bank? \n",
    "\n",
    "Write a code in python to solve this problem"
   ]
  },
  {
   "cell_type": "code",
   "execution_count": null,
   "metadata": {},
   "outputs": [],
   "source": [
    "import math\n",
    "\n",
    "# Parameters\n",
    "lambda_value = 1 / 10  # λ = 1/mean = 1/10\n",
    "time = 15  # Time threshold in minutes\n",
    "\n",
    "# Calculate using the CDF of exponential distribution\n",
    "probability_less_than_15 = 1 - math.exp(-lambda_value * time)\n",
    "\n",
    "print(f\"The probability that a customer will spend less than 15 minutes in the bank is: {round(probability_less_than_15, 3)}\")\n"
   ]
  },
  {
   "cell_type": "markdown",
   "metadata": {},
   "source": [
    "What is the probability that the customer will spend more than 15 minutes"
   ]
  },
  {
   "cell_type": "code",
   "execution_count": null,
   "metadata": {},
   "outputs": [],
   "source": [
    "probability_more_than_15 = math.exp(-lambda_value * time)\n",
    "\n",
    "print(f\"The probability that a customer will spend more than 15 minutes in the bank is: {round(probability_more_than_15, 3)}\")\n"
   ]
  }
 ],
 "metadata": {
  "kernelspec": {
   "display_name": "Python 3",
   "language": "python",
   "name": "python3"
  },
  "language_info": {
   "codemirror_mode": {
    "name": "ipython",
    "version": 3
   },
   "file_extension": ".py",
   "mimetype": "text/x-python",
   "name": "python",
   "nbconvert_exporter": "python",
   "pygments_lexer": "ipython3",
   "version": "3.10.10"
  }
 },
 "nbformat": 4,
 "nbformat_minor": 2
}
